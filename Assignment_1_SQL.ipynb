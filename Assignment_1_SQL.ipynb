{
  "nbformat": 4,
  "nbformat_minor": 0,
  "metadata": {
    "colab": {
      "name": "Assignment_1_SQL.ipynb",
      "version": "0.3.2",
      "provenance": [],
      "collapsed_sections": [
        "bwFZaFfoHKLD"
      ],
      "include_colab_link": true
    },
    "kernelspec": {
      "name": "python3",
      "display_name": "Python 3"
    }
  },
  "cells": [
    {
      "cell_type": "markdown",
      "metadata": {
        "id": "view-in-github",
        "colab_type": "text"
      },
      "source": [
        "<a href=\"https://colab.research.google.com/github/msaadsadiq/BigDataCourse/blob/master/Assignment_1_SQL.ipynb\" target=\"_parent\"><img src=\"https://colab.research.google.com/assets/colab-badge.svg\" alt=\"Open In Colab\"/></a>"
      ]
    },
    {
      "metadata": {
        "id": "U85LdULCCOhC",
        "colab_type": "text"
      },
      "cell_type": "markdown",
      "source": [
        "# ECE 795 - Big Data\n",
        "## Assignment #1 - Querying Google Cloud BigQuery using SQL\n"
      ]
    },
    {
      "metadata": {
        "id": "rWLtFEp9IBPI",
        "colab_type": "text"
      },
      "cell_type": "markdown",
      "source": [
        "### Before you begin\n",
        "\n",
        "\n",
        "1.   Create your own project using using the [Cloud Resource Manager](https://console.cloud.google.com/cloud-resource-manager) if you do not already have one.\n",
        "2.   [Enable billing](https://support.google.com/cloud/answer/6293499#enable-billing) for the project.\n",
        "3.   [Enable BigQuery](https://console.cloud.google.com/flows/enableapi?apiid=bigquery) APIs for the project. (should be already enabled)\n",
        "  "
      ]
    },
    {
      "metadata": {
        "id": "MwBDhFPkDG9g",
        "colab_type": "text"
      },
      "cell_type": "markdown",
      "source": [
        "### Provide your credentials to the runtime"
      ]
    },
    {
      "metadata": {
        "id": "E7ekeAY0B-8N",
        "colab_type": "code",
        "colab": {
          "base_uri": "https://localhost:8080/",
          "height": 34
        },
        "outputId": "c9f35bab-76a1-418a-cfcf-9ed14fa9b1f7"
      },
      "cell_type": "code",
      "source": [
        "# Authenticate your student profile\n",
        "\n",
        "from google.colab import auth\n",
        "auth.authenticate_user()\n",
        "print('Authenticated')"
      ],
      "execution_count": 3,
      "outputs": [
        {
          "output_type": "stream",
          "text": [
            "Authenticated\n"
          ],
          "name": "stdout"
        }
      ]
    },
    {
      "metadata": {
        "id": "DmUc8EeVDjNR",
        "colab_type": "text"
      },
      "cell_type": "markdown",
      "source": [
        "## There are several ways to access your BigQuery tables \n",
        "1. Magics library\n",
        "2. Google-cloud-bigquery\n",
        "3. Pandas dataframe \n"
      ]
    },
    {
      "metadata": {
        "id": "UcpUiYs1D1mA",
        "colab_type": "code",
        "colab": {
          "base_uri": "https://localhost:8080/",
          "height": 80
        },
        "outputId": "45bf10ac-223e-4f56-ac92-a65f3dbd9903"
      },
      "cell_type": "code",
      "source": [
        "# 1. Magics library method\n",
        "\n",
        "%%bigquery --project ece795 df_lib\n",
        "SELECT \n",
        "  COUNT(*) as total_rows\n",
        "FROM `bigquery-public-data.samples.gsod`\n",
        "\n",
        "\n",
        "# This command runs a query and displays the result, optionally saving it to a variable as a `DataFrame`."
      ],
      "execution_count": 7,
      "outputs": [
        {
          "output_type": "execute_result",
          "data": {
            "text/html": [
              "<div>\n",
              "<style scoped>\n",
              "    .dataframe tbody tr th:only-of-type {\n",
              "        vertical-align: middle;\n",
              "    }\n",
              "\n",
              "    .dataframe tbody tr th {\n",
              "        vertical-align: top;\n",
              "    }\n",
              "\n",
              "    .dataframe thead th {\n",
              "        text-align: right;\n",
              "    }\n",
              "</style>\n",
              "<table border=\"1\" class=\"dataframe\">\n",
              "  <thead>\n",
              "    <tr style=\"text-align: right;\">\n",
              "      <th></th>\n",
              "      <th>total_rows</th>\n",
              "    </tr>\n",
              "  </thead>\n",
              "  <tbody>\n",
              "    <tr>\n",
              "      <th>0</th>\n",
              "      <td>114420316</td>\n",
              "    </tr>\n",
              "  </tbody>\n",
              "</table>\n",
              "</div>"
            ],
            "text/plain": [
              "   total_rows\n",
              "0   114420316"
            ]
          },
          "metadata": {
            "tags": []
          },
          "execution_count": 7
        }
      ]
    },
    {
      "metadata": {
        "id": "jeRtgpS0EJB4",
        "colab_type": "code",
        "colab": {
          "base_uri": "https://localhost:8080/",
          "height": 34
        },
        "outputId": "6c8bb1b6-ae47-4022-891c-0977b43a99d8"
      },
      "cell_type": "code",
      "source": [
        "# 2. google-cloud-bigQuery method\n",
        "\n",
        "from google.cloud import bigquery\n",
        "\n",
        "client = bigquery.Client(project='ece795')\n",
        "\n",
        "sample_count = 2000\n",
        "row_count = client.query('''\n",
        "  SELECT \n",
        "    COUNT(*) as total\n",
        "  FROM `bigquery-public-data.samples.gsod`''').to_dataframe().total[0]\n",
        "\n",
        "df_gc = client.query('''\n",
        "  SELECT\n",
        "    *\n",
        "  FROM\n",
        "    `bigquery-public-data.samples.gsod`\n",
        "  WHERE RAND() < %d/%d\n",
        "''' % (sample_count, row_count)).to_dataframe()\n",
        "\n",
        "print('Full dataset has %d rows' % row_count)"
      ],
      "execution_count": 9,
      "outputs": [
        {
          "output_type": "stream",
          "text": [
            "Full dataset has 114420316 rows\n"
          ],
          "name": "stdout"
        }
      ]
    },
    {
      "metadata": {
        "id": "bwFZaFfoHKLD",
        "colab_type": "text"
      },
      "cell_type": "markdown",
      "source": [
        "### Describe the data using magic lib"
      ]
    },
    {
      "metadata": {
        "id": "4IrRSpRwG5Iu",
        "colab_type": "code",
        "colab": {
          "base_uri": "https://localhost:8080/",
          "height": 297
        },
        "outputId": "27a20151-51cf-4975-c130-81d2ce9104f8"
      },
      "cell_type": "code",
      "source": [
        "# Magic lib method\n",
        "df_lib.describe()"
      ],
      "execution_count": 8,
      "outputs": [
        {
          "output_type": "execute_result",
          "data": {
            "text/html": [
              "<div>\n",
              "<style scoped>\n",
              "    .dataframe tbody tr th:only-of-type {\n",
              "        vertical-align: middle;\n",
              "    }\n",
              "\n",
              "    .dataframe tbody tr th {\n",
              "        vertical-align: top;\n",
              "    }\n",
              "\n",
              "    .dataframe thead th {\n",
              "        text-align: right;\n",
              "    }\n",
              "</style>\n",
              "<table border=\"1\" class=\"dataframe\">\n",
              "  <thead>\n",
              "    <tr style=\"text-align: right;\">\n",
              "      <th></th>\n",
              "      <th>total_rows</th>\n",
              "    </tr>\n",
              "  </thead>\n",
              "  <tbody>\n",
              "    <tr>\n",
              "      <th>count</th>\n",
              "      <td>1.0</td>\n",
              "    </tr>\n",
              "    <tr>\n",
              "      <th>mean</th>\n",
              "      <td>114420316.0</td>\n",
              "    </tr>\n",
              "    <tr>\n",
              "      <th>std</th>\n",
              "      <td>NaN</td>\n",
              "    </tr>\n",
              "    <tr>\n",
              "      <th>min</th>\n",
              "      <td>114420316.0</td>\n",
              "    </tr>\n",
              "    <tr>\n",
              "      <th>25%</th>\n",
              "      <td>114420316.0</td>\n",
              "    </tr>\n",
              "    <tr>\n",
              "      <th>50%</th>\n",
              "      <td>114420316.0</td>\n",
              "    </tr>\n",
              "    <tr>\n",
              "      <th>75%</th>\n",
              "      <td>114420316.0</td>\n",
              "    </tr>\n",
              "    <tr>\n",
              "      <th>max</th>\n",
              "      <td>114420316.0</td>\n",
              "    </tr>\n",
              "  </tbody>\n",
              "</table>\n",
              "</div>"
            ],
            "text/plain": [
              "        total_rows\n",
              "count          1.0\n",
              "mean   114420316.0\n",
              "std            NaN\n",
              "min    114420316.0\n",
              "25%    114420316.0\n",
              "50%    114420316.0\n",
              "75%    114420316.0\n",
              "max    114420316.0"
            ]
          },
          "metadata": {
            "tags": []
          },
          "execution_count": 8
        }
      ]
    },
    {
      "metadata": {
        "id": "R2-nCfpuHREC",
        "colab_type": "text"
      },
      "cell_type": "markdown",
      "source": [
        "### Describe the data using GCloud method"
      ]
    },
    {
      "metadata": {
        "id": "2-En6-2wHVcZ",
        "colab_type": "code",
        "colab": {
          "base_uri": "https://localhost:8080/",
          "height": 346
        },
        "outputId": "12bfd8f9-fe3f-419c-9986-10de9a877216"
      },
      "cell_type": "code",
      "source": [
        "# G-Cloud method\n",
        "df_gc.describe()"
      ],
      "execution_count": 10,
      "outputs": [
        {
          "output_type": "execute_result",
          "data": {
            "text/html": [
              "<div>\n",
              "<style scoped>\n",
              "    .dataframe tbody tr th:only-of-type {\n",
              "        vertical-align: middle;\n",
              "    }\n",
              "\n",
              "    .dataframe tbody tr th {\n",
              "        vertical-align: top;\n",
              "    }\n",
              "\n",
              "    .dataframe thead th {\n",
              "        text-align: right;\n",
              "    }\n",
              "</style>\n",
              "<table border=\"1\" class=\"dataframe\">\n",
              "  <thead>\n",
              "    <tr style=\"text-align: right;\">\n",
              "      <th></th>\n",
              "      <th>station_number</th>\n",
              "      <th>wban_number</th>\n",
              "      <th>year</th>\n",
              "      <th>month</th>\n",
              "      <th>day</th>\n",
              "      <th>mean_temp</th>\n",
              "      <th>num_mean_temp_samples</th>\n",
              "      <th>mean_dew_point</th>\n",
              "      <th>num_mean_dew_point_samples</th>\n",
              "      <th>mean_sealevel_pressure</th>\n",
              "      <th>...</th>\n",
              "      <th>num_mean_station_pressure_samples</th>\n",
              "      <th>mean_visibility</th>\n",
              "      <th>num_mean_visibility_samples</th>\n",
              "      <th>mean_wind_speed</th>\n",
              "      <th>num_mean_wind_speed_samples</th>\n",
              "      <th>max_sustained_wind_speed</th>\n",
              "      <th>max_gust_wind_speed</th>\n",
              "      <th>max_temperature</th>\n",
              "      <th>total_precipitation</th>\n",
              "      <th>snow_depth</th>\n",
              "    </tr>\n",
              "  </thead>\n",
              "  <tbody>\n",
              "    <tr>\n",
              "      <th>count</th>\n",
              "      <td>2051.000000</td>\n",
              "      <td>2051.000000</td>\n",
              "      <td>2051.000000</td>\n",
              "      <td>2051.000000</td>\n",
              "      <td>2051.000000</td>\n",
              "      <td>2051.000000</td>\n",
              "      <td>2051.000000</td>\n",
              "      <td>1959.000000</td>\n",
              "      <td>1959.000000</td>\n",
              "      <td>1563.000000</td>\n",
              "      <td>...</td>\n",
              "      <td>758.000000</td>\n",
              "      <td>1829.000000</td>\n",
              "      <td>1829.000000</td>\n",
              "      <td>2023.000000</td>\n",
              "      <td>2023.000000</td>\n",
              "      <td>1989.000000</td>\n",
              "      <td>259.000000</td>\n",
              "      <td>2051.000000</td>\n",
              "      <td>1882.000000</td>\n",
              "      <td>124.000000</td>\n",
              "    </tr>\n",
              "    <tr>\n",
              "      <th>mean</th>\n",
              "      <td>521842.764993</td>\n",
              "      <td>89722.036568</td>\n",
              "      <td>1987.115553</td>\n",
              "      <td>6.543150</td>\n",
              "      <td>15.751341</td>\n",
              "      <td>51.841004</td>\n",
              "      <td>12.912725</td>\n",
              "      <td>41.008678</td>\n",
              "      <td>12.862175</td>\n",
              "      <td>1015.003903</td>\n",
              "      <td>...</td>\n",
              "      <td>12.197889</td>\n",
              "      <td>12.400929</td>\n",
              "      <td>12.669765</td>\n",
              "      <td>6.782996</td>\n",
              "      <td>12.827484</td>\n",
              "      <td>12.093565</td>\n",
              "      <td>24.633977</td>\n",
              "      <td>43.108971</td>\n",
              "      <td>0.068358</td>\n",
              "      <td>11.131452</td>\n",
              "    </tr>\n",
              "    <tr>\n",
              "      <th>std</th>\n",
              "      <td>294118.654142</td>\n",
              "      <td>26984.074703</td>\n",
              "      <td>16.226380</td>\n",
              "      <td>3.435605</td>\n",
              "      <td>8.792158</td>\n",
              "      <td>24.971396</td>\n",
              "      <td>7.954486</td>\n",
              "      <td>23.599055</td>\n",
              "      <td>7.919694</td>\n",
              "      <td>9.416330</td>\n",
              "      <td>...</td>\n",
              "      <td>7.918034</td>\n",
              "      <td>10.080911</td>\n",
              "      <td>7.918642</td>\n",
              "      <td>4.961915</td>\n",
              "      <td>7.917127</td>\n",
              "      <td>6.595313</td>\n",
              "      <td>8.741605</td>\n",
              "      <td>25.106837</td>\n",
              "      <td>0.251118</td>\n",
              "      <td>14.864867</td>\n",
              "    </tr>\n",
              "    <tr>\n",
              "      <th>min</th>\n",
              "      <td>10150.000000</td>\n",
              "      <td>73.000000</td>\n",
              "      <td>1930.000000</td>\n",
              "      <td>1.000000</td>\n",
              "      <td>1.000000</td>\n",
              "      <td>-52.799999</td>\n",
              "      <td>4.000000</td>\n",
              "      <td>-56.299999</td>\n",
              "      <td>4.000000</td>\n",
              "      <td>953.500000</td>\n",
              "      <td>...</td>\n",
              "      <td>4.000000</td>\n",
              "      <td>0.000000</td>\n",
              "      <td>4.000000</td>\n",
              "      <td>0.000000</td>\n",
              "      <td>4.000000</td>\n",
              "      <td>1.000000</td>\n",
              "      <td>6.000000</td>\n",
              "      <td>-60.000000</td>\n",
              "      <td>0.000000</td>\n",
              "      <td>0.400000</td>\n",
              "    </tr>\n",
              "    <tr>\n",
              "      <th>25%</th>\n",
              "      <td>274025.000000</td>\n",
              "      <td>99999.000000</td>\n",
              "      <td>1977.000000</td>\n",
              "      <td>4.000000</td>\n",
              "      <td>8.000000</td>\n",
              "      <td>37.549999</td>\n",
              "      <td>7.000000</td>\n",
              "      <td>28.200001</td>\n",
              "      <td>7.000000</td>\n",
              "      <td>1009.900024</td>\n",
              "      <td>...</td>\n",
              "      <td>6.000000</td>\n",
              "      <td>6.300000</td>\n",
              "      <td>6.000000</td>\n",
              "      <td>3.500000</td>\n",
              "      <td>7.000000</td>\n",
              "      <td>7.800000</td>\n",
              "      <td>18.100000</td>\n",
              "      <td>30.200001</td>\n",
              "      <td>0.000000</td>\n",
              "      <td>2.000000</td>\n",
              "    </tr>\n",
              "    <tr>\n",
              "      <th>50%</th>\n",
              "      <td>571060.000000</td>\n",
              "      <td>99999.000000</td>\n",
              "      <td>1989.000000</td>\n",
              "      <td>7.000000</td>\n",
              "      <td>16.000000</td>\n",
              "      <td>56.000000</td>\n",
              "      <td>8.000000</td>\n",
              "      <td>43.700001</td>\n",
              "      <td>8.000000</td>\n",
              "      <td>1014.599976</td>\n",
              "      <td>...</td>\n",
              "      <td>8.000000</td>\n",
              "      <td>9.800000</td>\n",
              "      <td>8.000000</td>\n",
              "      <td>5.800000</td>\n",
              "      <td>8.000000</td>\n",
              "      <td>11.100000</td>\n",
              "      <td>22.900000</td>\n",
              "      <td>46.400002</td>\n",
              "      <td>0.000000</td>\n",
              "      <td>6.100000</td>\n",
              "    </tr>\n",
              "    <tr>\n",
              "      <th>75%</th>\n",
              "      <td>725482.500000</td>\n",
              "      <td>99999.000000</td>\n",
              "      <td>2000.500000</td>\n",
              "      <td>9.000000</td>\n",
              "      <td>23.000000</td>\n",
              "      <td>70.800003</td>\n",
              "      <td>24.000000</td>\n",
              "      <td>58.150000</td>\n",
              "      <td>23.000000</td>\n",
              "      <td>1020.099976</td>\n",
              "      <td>...</td>\n",
              "      <td>23.000000</td>\n",
              "      <td>14.900000</td>\n",
              "      <td>23.000000</td>\n",
              "      <td>8.900000</td>\n",
              "      <td>23.000000</td>\n",
              "      <td>15.500000</td>\n",
              "      <td>29.500000</td>\n",
              "      <td>61.700001</td>\n",
              "      <td>0.010000</td>\n",
              "      <td>16.600000</td>\n",
              "    </tr>\n",
              "    <tr>\n",
              "      <th>max</th>\n",
              "      <td>999999.000000</td>\n",
              "      <td>99999.000000</td>\n",
              "      <td>2010.000000</td>\n",
              "      <td>12.000000</td>\n",
              "      <td>31.000000</td>\n",
              "      <td>102.199997</td>\n",
              "      <td>24.000000</td>\n",
              "      <td>79.699997</td>\n",
              "      <td>24.000000</td>\n",
              "      <td>1049.599976</td>\n",
              "      <td>...</td>\n",
              "      <td>24.000000</td>\n",
              "      <td>99.400002</td>\n",
              "      <td>24.000000</td>\n",
              "      <td>46.599998</td>\n",
              "      <td>24.000000</td>\n",
              "      <td>54.400002</td>\n",
              "      <td>66.000000</td>\n",
              "      <td>96.800003</td>\n",
              "      <td>2.950000</td>\n",
              "      <td>97.599998</td>\n",
              "    </tr>\n",
              "  </tbody>\n",
              "</table>\n",
              "<p>8 rows × 22 columns</p>\n",
              "</div>"
            ],
            "text/plain": [
              "       station_number   wban_number         year        month          day  \\\n",
              "count     2051.000000   2051.000000  2051.000000  2051.000000  2051.000000   \n",
              "mean    521842.764993  89722.036568  1987.115553     6.543150    15.751341   \n",
              "std     294118.654142  26984.074703    16.226380     3.435605     8.792158   \n",
              "min      10150.000000     73.000000  1930.000000     1.000000     1.000000   \n",
              "25%     274025.000000  99999.000000  1977.000000     4.000000     8.000000   \n",
              "50%     571060.000000  99999.000000  1989.000000     7.000000    16.000000   \n",
              "75%     725482.500000  99999.000000  2000.500000     9.000000    23.000000   \n",
              "max     999999.000000  99999.000000  2010.000000    12.000000    31.000000   \n",
              "\n",
              "         mean_temp  num_mean_temp_samples  mean_dew_point  \\\n",
              "count  2051.000000            2051.000000     1959.000000   \n",
              "mean     51.841004              12.912725       41.008678   \n",
              "std      24.971396               7.954486       23.599055   \n",
              "min     -52.799999               4.000000      -56.299999   \n",
              "25%      37.549999               7.000000       28.200001   \n",
              "50%      56.000000               8.000000       43.700001   \n",
              "75%      70.800003              24.000000       58.150000   \n",
              "max     102.199997              24.000000       79.699997   \n",
              "\n",
              "       num_mean_dew_point_samples  mean_sealevel_pressure     ...      \\\n",
              "count                 1959.000000             1563.000000     ...       \n",
              "mean                    12.862175             1015.003903     ...       \n",
              "std                      7.919694                9.416330     ...       \n",
              "min                      4.000000              953.500000     ...       \n",
              "25%                      7.000000             1009.900024     ...       \n",
              "50%                      8.000000             1014.599976     ...       \n",
              "75%                     23.000000             1020.099976     ...       \n",
              "max                     24.000000             1049.599976     ...       \n",
              "\n",
              "       num_mean_station_pressure_samples  mean_visibility  \\\n",
              "count                         758.000000      1829.000000   \n",
              "mean                           12.197889        12.400929   \n",
              "std                             7.918034        10.080911   \n",
              "min                             4.000000         0.000000   \n",
              "25%                             6.000000         6.300000   \n",
              "50%                             8.000000         9.800000   \n",
              "75%                            23.000000        14.900000   \n",
              "max                            24.000000        99.400002   \n",
              "\n",
              "       num_mean_visibility_samples  mean_wind_speed  \\\n",
              "count                  1829.000000      2023.000000   \n",
              "mean                     12.669765         6.782996   \n",
              "std                       7.918642         4.961915   \n",
              "min                       4.000000         0.000000   \n",
              "25%                       6.000000         3.500000   \n",
              "50%                       8.000000         5.800000   \n",
              "75%                      23.000000         8.900000   \n",
              "max                      24.000000        46.599998   \n",
              "\n",
              "       num_mean_wind_speed_samples  max_sustained_wind_speed  \\\n",
              "count                  2023.000000               1989.000000   \n",
              "mean                     12.827484                 12.093565   \n",
              "std                       7.917127                  6.595313   \n",
              "min                       4.000000                  1.000000   \n",
              "25%                       7.000000                  7.800000   \n",
              "50%                       8.000000                 11.100000   \n",
              "75%                      23.000000                 15.500000   \n",
              "max                      24.000000                 54.400002   \n",
              "\n",
              "       max_gust_wind_speed  max_temperature  total_precipitation  snow_depth  \n",
              "count           259.000000      2051.000000          1882.000000  124.000000  \n",
              "mean             24.633977        43.108971             0.068358   11.131452  \n",
              "std               8.741605        25.106837             0.251118   14.864867  \n",
              "min               6.000000       -60.000000             0.000000    0.400000  \n",
              "25%              18.100000        30.200001             0.000000    2.000000  \n",
              "50%              22.900000        46.400002             0.000000    6.100000  \n",
              "75%              29.500000        61.700001             0.010000   16.600000  \n",
              "max              66.000000        96.800003             2.950000   97.599998  \n",
              "\n",
              "[8 rows x 22 columns]"
            ]
          },
          "metadata": {
            "tags": []
          },
          "execution_count": 10
        }
      ]
    },
    {
      "metadata": {
        "id": "lnVrFu_nHt7g",
        "colab_type": "text"
      },
      "cell_type": "markdown",
      "source": [
        "## Sample Queries"
      ]
    },
    {
      "metadata": {
        "id": "Crs_LQHVIf5-",
        "colab_type": "text"
      },
      "cell_type": "markdown",
      "source": [
        "### View the first 10 rows"
      ]
    },
    {
      "metadata": {
        "id": "FbsFwuFlIh6c",
        "colab_type": "code",
        "colab": {}
      },
      "cell_type": "code",
      "source": [
        "# top 10 rows\n",
        "df.head(10)"
      ],
      "execution_count": 0,
      "outputs": []
    },
    {
      "metadata": {
        "id": "IPxcqyLeIlox",
        "colab_type": "code",
        "colab": {}
      },
      "cell_type": "code",
      "source": [
        "# 10 highest total_precipitation samples\n",
        "df.sort_values('total_precipitation', ascending=False).head(10)[['station_number', 'year', 'month', 'day', 'total_precipitation']]"
      ],
      "execution_count": 0,
      "outputs": []
    }
  ]
}