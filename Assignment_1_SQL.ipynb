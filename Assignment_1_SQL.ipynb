{
  "nbformat": 4,
  "nbformat_minor": 0,
  "metadata": {
    "colab": {
      "name": "Assignment_1_SQL.ipynb",
      "version": "0.3.2",
      "provenance": [],
      "collapsed_sections": [],
      "toc_visible": true,
      "include_colab_link": true
    },
    "kernelspec": {
      "name": "python3",
      "display_name": "Python 3"
    }
  },
  "cells": [
    {
      "cell_type": "markdown",
      "metadata": {
        "id": "view-in-github",
        "colab_type": "text"
      },
      "source": [
        "<a href=\"https://colab.research.google.com/github/msaadsadiq/BigDataCourse/blob/master/Assignment_1_SQL.ipynb\" target=\"_parent\"><img src=\"https://colab.research.google.com/assets/colab-badge.svg\" alt=\"Open In Colab\"/></a>"
      ]
    },
    {
      "metadata": {
        "id": "U85LdULCCOhC",
        "colab_type": "text"
      },
      "cell_type": "markdown",
      "source": [
        "# ECE 795 - Big Data\n",
        "## Assignment #1 - Querying Google Cloud BigQuery using SQL\n"
      ]
    },
    {
      "metadata": {
        "id": "rWLtFEp9IBPI",
        "colab_type": "text"
      },
      "cell_type": "markdown",
      "source": [
        "### Before you begin\n",
        "\n",
        "\n",
        "1.   Create your own project using using the [Cloud Resource Manager](https://console.cloud.google.com/cloud-resource-manager) if you do not already have one.\n",
        "2.   [Enable billing](https://support.google.com/cloud/answer/6293499#enable-billing) for the project.\n",
        "3.   [Enable BigQuery](https://console.cloud.google.com/flows/enableapi?apiid=bigquery) APIs for the project. (should be already enabled)\n",
        "  "
      ]
    },
    {
      "metadata": {
        "id": "MwBDhFPkDG9g",
        "colab_type": "text"
      },
      "cell_type": "markdown",
      "source": [
        "### Provide your credentials to the runtime"
      ]
    },
    {
      "metadata": {
        "id": "E7ekeAY0B-8N",
        "colab_type": "code",
        "colab": {
          "base_uri": "https://localhost:8080/",
          "height": 34
        },
        "outputId": "c9f35bab-76a1-418a-cfcf-9ed14fa9b1f7"
      },
      "cell_type": "code",
      "source": [
        "# Authenticate your student profile\n",
        "\n",
        "from google.colab import auth\n",
        "auth.authenticate_user()\n",
        "print('Authenticated')"
      ],
      "execution_count": 3,
      "outputs": [
        {
          "output_type": "stream",
          "text": [
            "Authenticated\n"
          ],
          "name": "stdout"
        }
      ]
    },
    {
      "metadata": {
        "id": "DmUc8EeVDjNR",
        "colab_type": "text"
      },
      "cell_type": "markdown",
      "source": [
        "## There are several ways to access your BigQuery tables \n",
        "1. Magics command\n",
        "2. Google-cloud-bigquery\n",
        "3. Pandas dataframe \n"
      ]
    },
    {
      "metadata": {
        "id": "9xnYbfpNcMry",
        "colab_type": "text"
      },
      "cell_type": "markdown",
      "source": [
        "### Set the Project ID "
      ]
    },
    {
      "metadata": {
        "id": "hxlTrWdvMR_6",
        "colab_type": "code",
        "colab": {}
      },
      "cell_type": "code",
      "source": [
        "project_id = 'ece795'"
      ],
      "execution_count": 0,
      "outputs": []
    },
    {
      "metadata": {
        "id": "Zbhn0kMuLsl4",
        "colab_type": "text"
      },
      "cell_type": "markdown",
      "source": [
        "### We will use the GSOD sample table contains weather information collected by NOAA, such as precipitation amounts and wind speeds from late 1929 to early 2010."
      ]
    },
    {
      "metadata": {
        "id": "66cbKx5LcZZV",
        "colab_type": "text"
      },
      "cell_type": "markdown",
      "source": [
        "### 1. Magics library method\n"
      ]
    },
    {
      "metadata": {
        "id": "UcpUiYs1D1mA",
        "colab_type": "code",
        "colab": {
          "base_uri": "https://localhost:8080/",
          "height": 80
        },
        "outputId": "6f5e273a-5a63-414c-9546-fffb00e88ac2"
      },
      "cell_type": "code",
      "source": [
        "# The google.cloud.bigquery library also includes a magic command which runs a query and displays the result, optionally saving it to a variable as a DataFrame.\n",
        "\n",
        "%%bigquery --project ece795 df\n",
        "SELECT \n",
        "  COUNT(*) as total_rows\n",
        "FROM `bigquery-public-data.samples.gsod`\n",
        "\n",
        "\n",
        "# This command runs a query and displays the result, optionally saving it to a variable as a `DataFrame`."
      ],
      "execution_count": 15,
      "outputs": [
        {
          "output_type": "execute_result",
          "data": {
            "text/html": [
              "<div>\n",
              "<style scoped>\n",
              "    .dataframe tbody tr th:only-of-type {\n",
              "        vertical-align: middle;\n",
              "    }\n",
              "\n",
              "    .dataframe tbody tr th {\n",
              "        vertical-align: top;\n",
              "    }\n",
              "\n",
              "    .dataframe thead th {\n",
              "        text-align: right;\n",
              "    }\n",
              "</style>\n",
              "<table border=\"1\" class=\"dataframe\">\n",
              "  <thead>\n",
              "    <tr style=\"text-align: right;\">\n",
              "      <th></th>\n",
              "      <th>total_rows</th>\n",
              "    </tr>\n",
              "  </thead>\n",
              "  <tbody>\n",
              "    <tr>\n",
              "      <th>0</th>\n",
              "      <td>114420316</td>\n",
              "    </tr>\n",
              "  </tbody>\n",
              "</table>\n",
              "</div>"
            ],
            "text/plain": [
              "   total_rows\n",
              "0   114420316"
            ]
          },
          "metadata": {
            "tags": []
          },
          "execution_count": 15
        }
      ]
    },
    {
      "metadata": {
        "id": "xQMou5v9cc_l",
        "colab_type": "text"
      },
      "cell_type": "markdown",
      "source": [
        "### 2. google-cloud-bigQuery method"
      ]
    },
    {
      "metadata": {
        "id": "jeRtgpS0EJB4",
        "colab_type": "code",
        "colab": {
          "base_uri": "https://localhost:8080/",
          "height": 51
        },
        "outputId": "65c48a93-c703-4cbd-b196-65bdc24239db"
      },
      "cell_type": "code",
      "source": [
        "# 2. google-cloud-bigQuery method\n",
        "\n",
        "from google.cloud import bigquery\n",
        "\n",
        "client = bigquery.Client(project=project_id)\n",
        "\n",
        "row_count = client.query('''\n",
        "  SELECT \n",
        "    COUNT(*) as total\n",
        "  FROM `bigquery-public-data.samples.gsod`''').to_dataframe().total[0]\n",
        "\n",
        "\n",
        "print('Full dataset has %d rows' % row_count)"
      ],
      "execution_count": 21,
      "outputs": [
        {
          "output_type": "stream",
          "text": [
            "WARNING:google.auth._default:No project ID could be determined. Consider running `gcloud config set project` or setting the GOOGLE_CLOUD_PROJECT environment variable\n"
          ],
          "name": "stderr"
        },
        {
          "output_type": "stream",
          "text": [
            "Full dataset has 114420316 rows\n"
          ],
          "name": "stdout"
        }
      ]
    },
    {
      "metadata": {
        "id": "q-nKHOhjcgIt",
        "colab_type": "text"
      },
      "cell_type": "markdown",
      "source": [
        "### 3. Pandas data frame"
      ]
    },
    {
      "metadata": {
        "id": "4lw-BYqtL8uF",
        "colab_type": "code",
        "colab": {
          "base_uri": "https://localhost:8080/",
          "height": 68
        },
        "outputId": "cbef056f-a28b-42e8-80d2-6030c0e2fb42"
      },
      "cell_type": "code",
      "source": [
        "\n",
        "# The pandas-gbq library is a community led project by the pandas community. It covers basic functionality, such as writing a DataFrame to BigQuery and running a query, but as a third-party library it may not handle all BigQuery features or use cases.\n",
        "\n",
        "import pandas as pd\n",
        "\n",
        "sample_count = 2000\n",
        "row_count = pd.io.gbq.read_gbq('''\n",
        "  SELECT COUNT(*) as total\n",
        "  FROM `bigquery-public-data.samples.gsod`''', \n",
        "                           project_id=project_id, verbose=False, dialect='standard')\n",
        "\n",
        "print(row_count)"
      ],
      "execution_count": 23,
      "outputs": [
        {
          "output_type": "stream",
          "text": [
            "WARNING:google.auth._default:No project ID could be determined. Consider running `gcloud config set project` or setting the GOOGLE_CLOUD_PROJECT environment variable\n"
          ],
          "name": "stderr"
        },
        {
          "output_type": "stream",
          "text": [
            "       total\n",
            "0  114420316\n"
          ],
          "name": "stdout"
        }
      ]
    },
    {
      "metadata": {
        "id": "lnVrFu_nHt7g",
        "colab_type": "text"
      },
      "cell_type": "markdown",
      "source": [
        "# Lets try some sample Queries on GSOD data"
      ]
    },
    {
      "metadata": {
        "id": "Crs_LQHVIf5-",
        "colab_type": "text"
      },
      "cell_type": "markdown",
      "source": [
        "### Sample 2000 random rows from the full Table"
      ]
    },
    {
      "metadata": {
        "id": "54sQhWTBOwXD",
        "colab_type": "code",
        "colab": {
          "base_uri": "https://localhost:8080/",
          "height": 425
        },
        "outputId": "5f5929ba-b06e-4c57-e82e-6689fa2a1754"
      },
      "cell_type": "code",
      "source": [
        "# Using Google Cloud method\n",
        "\n",
        "from google.cloud import bigquery\n",
        "\n",
        "client = bigquery.Client(project=project_id)\n",
        "\n",
        "sample_count = 2000\n",
        "row_count = client.query('''\n",
        "  SELECT \n",
        "    COUNT(*) as total\n",
        "  FROM `bigquery-public-data.samples.gsod`''').to_dataframe().total[0]\n",
        "\n",
        "df_gc = client.query('''\n",
        "  SELECT\n",
        "    *\n",
        "  FROM\n",
        "    `bigquery-public-data.samples.gsod`\n",
        "  WHERE RAND() < %d/%d\n",
        "''' % (sample_count, row_count)).to_dataframe()\n",
        "\n",
        "# top 10 rows\n",
        "df_gc.head(10)\n"
      ],
      "execution_count": 25,
      "outputs": [
        {
          "output_type": "stream",
          "text": [
            "WARNING:google.auth._default:No project ID could be determined. Consider running `gcloud config set project` or setting the GOOGLE_CLOUD_PROJECT environment variable\n"
          ],
          "name": "stderr"
        },
        {
          "output_type": "execute_result",
          "data": {
            "text/html": [
              "<div>\n",
              "<style scoped>\n",
              "    .dataframe tbody tr th:only-of-type {\n",
              "        vertical-align: middle;\n",
              "    }\n",
              "\n",
              "    .dataframe tbody tr th {\n",
              "        vertical-align: top;\n",
              "    }\n",
              "\n",
              "    .dataframe thead th {\n",
              "        text-align: right;\n",
              "    }\n",
              "</style>\n",
              "<table border=\"1\" class=\"dataframe\">\n",
              "  <thead>\n",
              "    <tr style=\"text-align: right;\">\n",
              "      <th></th>\n",
              "      <th>station_number</th>\n",
              "      <th>wban_number</th>\n",
              "      <th>year</th>\n",
              "      <th>month</th>\n",
              "      <th>day</th>\n",
              "      <th>mean_temp</th>\n",
              "      <th>num_mean_temp_samples</th>\n",
              "      <th>mean_dew_point</th>\n",
              "      <th>num_mean_dew_point_samples</th>\n",
              "      <th>mean_sealevel_pressure</th>\n",
              "      <th>...</th>\n",
              "      <th>min_temperature</th>\n",
              "      <th>min_temperature_explicit</th>\n",
              "      <th>total_precipitation</th>\n",
              "      <th>snow_depth</th>\n",
              "      <th>fog</th>\n",
              "      <th>rain</th>\n",
              "      <th>snow</th>\n",
              "      <th>hail</th>\n",
              "      <th>thunder</th>\n",
              "      <th>tornado</th>\n",
              "    </tr>\n",
              "  </thead>\n",
              "  <tbody>\n",
              "    <tr>\n",
              "      <th>0</th>\n",
              "      <td>724067</td>\n",
              "      <td>99999</td>\n",
              "      <td>1984</td>\n",
              "      <td>11</td>\n",
              "      <td>28</td>\n",
              "      <td>56.299999</td>\n",
              "      <td>15</td>\n",
              "      <td>49.700001</td>\n",
              "      <td>15.0</td>\n",
              "      <td>NaN</td>\n",
              "      <td>...</td>\n",
              "      <td>None</td>\n",
              "      <td>None</td>\n",
              "      <td>0.00</td>\n",
              "      <td>NaN</td>\n",
              "      <td>False</td>\n",
              "      <td>False</td>\n",
              "      <td>False</td>\n",
              "      <td>False</td>\n",
              "      <td>False</td>\n",
              "      <td>False</td>\n",
              "    </tr>\n",
              "    <tr>\n",
              "      <th>1</th>\n",
              "      <td>154980</td>\n",
              "      <td>99999</td>\n",
              "      <td>1991</td>\n",
              "      <td>12</td>\n",
              "      <td>14</td>\n",
              "      <td>32.599998</td>\n",
              "      <td>12</td>\n",
              "      <td>NaN</td>\n",
              "      <td>NaN</td>\n",
              "      <td>NaN</td>\n",
              "      <td>...</td>\n",
              "      <td>None</td>\n",
              "      <td>None</td>\n",
              "      <td>0.00</td>\n",
              "      <td>NaN</td>\n",
              "      <td>False</td>\n",
              "      <td>False</td>\n",
              "      <td>False</td>\n",
              "      <td>False</td>\n",
              "      <td>False</td>\n",
              "      <td>False</td>\n",
              "    </tr>\n",
              "    <tr>\n",
              "      <th>2</th>\n",
              "      <td>10490</td>\n",
              "      <td>99999</td>\n",
              "      <td>2001</td>\n",
              "      <td>4</td>\n",
              "      <td>18</td>\n",
              "      <td>32.799999</td>\n",
              "      <td>20</td>\n",
              "      <td>27.299999</td>\n",
              "      <td>20.0</td>\n",
              "      <td>NaN</td>\n",
              "      <td>...</td>\n",
              "      <td>None</td>\n",
              "      <td>None</td>\n",
              "      <td>0.08</td>\n",
              "      <td>NaN</td>\n",
              "      <td>False</td>\n",
              "      <td>False</td>\n",
              "      <td>False</td>\n",
              "      <td>False</td>\n",
              "      <td>False</td>\n",
              "      <td>False</td>\n",
              "    </tr>\n",
              "    <tr>\n",
              "      <th>3</th>\n",
              "      <td>804100</td>\n",
              "      <td>99999</td>\n",
              "      <td>2002</td>\n",
              "      <td>1</td>\n",
              "      <td>9</td>\n",
              "      <td>78.099998</td>\n",
              "      <td>11</td>\n",
              "      <td>60.799999</td>\n",
              "      <td>11.0</td>\n",
              "      <td>NaN</td>\n",
              "      <td>...</td>\n",
              "      <td>None</td>\n",
              "      <td>None</td>\n",
              "      <td>0.00</td>\n",
              "      <td>NaN</td>\n",
              "      <td>False</td>\n",
              "      <td>False</td>\n",
              "      <td>False</td>\n",
              "      <td>False</td>\n",
              "      <td>False</td>\n",
              "      <td>False</td>\n",
              "    </tr>\n",
              "    <tr>\n",
              "      <th>4</th>\n",
              "      <td>142531</td>\n",
              "      <td>99999</td>\n",
              "      <td>2006</td>\n",
              "      <td>1</td>\n",
              "      <td>28</td>\n",
              "      <td>49.000000</td>\n",
              "      <td>7</td>\n",
              "      <td>45.400002</td>\n",
              "      <td>7.0</td>\n",
              "      <td>NaN</td>\n",
              "      <td>...</td>\n",
              "      <td>None</td>\n",
              "      <td>None</td>\n",
              "      <td>NaN</td>\n",
              "      <td>NaN</td>\n",
              "      <td>False</td>\n",
              "      <td>False</td>\n",
              "      <td>False</td>\n",
              "      <td>False</td>\n",
              "      <td>False</td>\n",
              "      <td>False</td>\n",
              "    </tr>\n",
              "    <tr>\n",
              "      <th>5</th>\n",
              "      <td>125800</td>\n",
              "      <td>99999</td>\n",
              "      <td>2010</td>\n",
              "      <td>2</td>\n",
              "      <td>4</td>\n",
              "      <td>25.799999</td>\n",
              "      <td>24</td>\n",
              "      <td>22.799999</td>\n",
              "      <td>24.0</td>\n",
              "      <td>NaN</td>\n",
              "      <td>...</td>\n",
              "      <td>None</td>\n",
              "      <td>None</td>\n",
              "      <td>0.00</td>\n",
              "      <td>11.0</td>\n",
              "      <td>True</td>\n",
              "      <td>True</td>\n",
              "      <td>True</td>\n",
              "      <td>True</td>\n",
              "      <td>True</td>\n",
              "      <td>True</td>\n",
              "    </tr>\n",
              "    <tr>\n",
              "      <th>6</th>\n",
              "      <td>555690</td>\n",
              "      <td>99999</td>\n",
              "      <td>1988</td>\n",
              "      <td>10</td>\n",
              "      <td>12</td>\n",
              "      <td>50.799999</td>\n",
              "      <td>4</td>\n",
              "      <td>19.100000</td>\n",
              "      <td>4.0</td>\n",
              "      <td>NaN</td>\n",
              "      <td>...</td>\n",
              "      <td>None</td>\n",
              "      <td>None</td>\n",
              "      <td>0.00</td>\n",
              "      <td>NaN</td>\n",
              "      <td>False</td>\n",
              "      <td>False</td>\n",
              "      <td>False</td>\n",
              "      <td>False</td>\n",
              "      <td>False</td>\n",
              "      <td>False</td>\n",
              "    </tr>\n",
              "    <tr>\n",
              "      <th>7</th>\n",
              "      <td>60960</td>\n",
              "      <td>99999</td>\n",
              "      <td>1985</td>\n",
              "      <td>1</td>\n",
              "      <td>28</td>\n",
              "      <td>21.299999</td>\n",
              "      <td>4</td>\n",
              "      <td>19.500000</td>\n",
              "      <td>4.0</td>\n",
              "      <td>1014.599976</td>\n",
              "      <td>...</td>\n",
              "      <td>None</td>\n",
              "      <td>None</td>\n",
              "      <td>0.00</td>\n",
              "      <td>NaN</td>\n",
              "      <td>False</td>\n",
              "      <td>False</td>\n",
              "      <td>False</td>\n",
              "      <td>False</td>\n",
              "      <td>False</td>\n",
              "      <td>False</td>\n",
              "    </tr>\n",
              "    <tr>\n",
              "      <th>8</th>\n",
              "      <td>612960</td>\n",
              "      <td>99999</td>\n",
              "      <td>1964</td>\n",
              "      <td>10</td>\n",
              "      <td>21</td>\n",
              "      <td>81.000000</td>\n",
              "      <td>6</td>\n",
              "      <td>69.000000</td>\n",
              "      <td>6.0</td>\n",
              "      <td>1011.299988</td>\n",
              "      <td>...</td>\n",
              "      <td>None</td>\n",
              "      <td>None</td>\n",
              "      <td>0.00</td>\n",
              "      <td>NaN</td>\n",
              "      <td>False</td>\n",
              "      <td>False</td>\n",
              "      <td>False</td>\n",
              "      <td>False</td>\n",
              "      <td>False</td>\n",
              "      <td>False</td>\n",
              "    </tr>\n",
              "    <tr>\n",
              "      <th>9</th>\n",
              "      <td>334460</td>\n",
              "      <td>99999</td>\n",
              "      <td>1977</td>\n",
              "      <td>11</td>\n",
              "      <td>14</td>\n",
              "      <td>37.400002</td>\n",
              "      <td>7</td>\n",
              "      <td>35.299999</td>\n",
              "      <td>7.0</td>\n",
              "      <td>1003.500000</td>\n",
              "      <td>...</td>\n",
              "      <td>None</td>\n",
              "      <td>None</td>\n",
              "      <td>0.39</td>\n",
              "      <td>NaN</td>\n",
              "      <td>False</td>\n",
              "      <td>False</td>\n",
              "      <td>False</td>\n",
              "      <td>False</td>\n",
              "      <td>False</td>\n",
              "      <td>False</td>\n",
              "    </tr>\n",
              "  </tbody>\n",
              "</table>\n",
              "<p>10 rows × 31 columns</p>\n",
              "</div>"
            ],
            "text/plain": [
              "   station_number  wban_number  year  month  day  mean_temp  \\\n",
              "0          724067        99999  1984     11   28  56.299999   \n",
              "1          154980        99999  1991     12   14  32.599998   \n",
              "2           10490        99999  2001      4   18  32.799999   \n",
              "3          804100        99999  2002      1    9  78.099998   \n",
              "4          142531        99999  2006      1   28  49.000000   \n",
              "5          125800        99999  2010      2    4  25.799999   \n",
              "6          555690        99999  1988     10   12  50.799999   \n",
              "7           60960        99999  1985      1   28  21.299999   \n",
              "8          612960        99999  1964     10   21  81.000000   \n",
              "9          334460        99999  1977     11   14  37.400002   \n",
              "\n",
              "   num_mean_temp_samples  mean_dew_point  num_mean_dew_point_samples  \\\n",
              "0                     15       49.700001                        15.0   \n",
              "1                     12             NaN                         NaN   \n",
              "2                     20       27.299999                        20.0   \n",
              "3                     11       60.799999                        11.0   \n",
              "4                      7       45.400002                         7.0   \n",
              "5                     24       22.799999                        24.0   \n",
              "6                      4       19.100000                         4.0   \n",
              "7                      4       19.500000                         4.0   \n",
              "8                      6       69.000000                         6.0   \n",
              "9                      7       35.299999                         7.0   \n",
              "\n",
              "   mean_sealevel_pressure   ...     min_temperature  min_temperature_explicit  \\\n",
              "0                     NaN   ...                None                      None   \n",
              "1                     NaN   ...                None                      None   \n",
              "2                     NaN   ...                None                      None   \n",
              "3                     NaN   ...                None                      None   \n",
              "4                     NaN   ...                None                      None   \n",
              "5                     NaN   ...                None                      None   \n",
              "6                     NaN   ...                None                      None   \n",
              "7             1014.599976   ...                None                      None   \n",
              "8             1011.299988   ...                None                      None   \n",
              "9             1003.500000   ...                None                      None   \n",
              "\n",
              "   total_precipitation  snow_depth    fog   rain   snow   hail  thunder  \\\n",
              "0                 0.00         NaN  False  False  False  False    False   \n",
              "1                 0.00         NaN  False  False  False  False    False   \n",
              "2                 0.08         NaN  False  False  False  False    False   \n",
              "3                 0.00         NaN  False  False  False  False    False   \n",
              "4                  NaN         NaN  False  False  False  False    False   \n",
              "5                 0.00        11.0   True   True   True   True     True   \n",
              "6                 0.00         NaN  False  False  False  False    False   \n",
              "7                 0.00         NaN  False  False  False  False    False   \n",
              "8                 0.00         NaN  False  False  False  False    False   \n",
              "9                 0.39         NaN  False  False  False  False    False   \n",
              "\n",
              "   tornado  \n",
              "0    False  \n",
              "1    False  \n",
              "2    False  \n",
              "3    False  \n",
              "4    False  \n",
              "5     True  \n",
              "6    False  \n",
              "7    False  \n",
              "8    False  \n",
              "9    False  \n",
              "\n",
              "[10 rows x 31 columns]"
            ]
          },
          "metadata": {
            "tags": []
          },
          "execution_count": 25
        }
      ]
    },
    {
      "metadata": {
        "id": "kCzDWMGcPG9Z",
        "colab_type": "text"
      },
      "cell_type": "markdown",
      "source": [
        "### Describe the data using GCloud *method*"
      ]
    },
    {
      "metadata": {
        "id": "aLHe1rmxO4WC",
        "colab_type": "code",
        "colab": {
          "base_uri": "https://localhost:8080/",
          "height": 346
        },
        "outputId": "d323d98c-2f64-4aa9-f522-100f2cacdd13"
      },
      "cell_type": "code",
      "source": [
        "df_gc.describe()"
      ],
      "execution_count": 26,
      "outputs": [
        {
          "output_type": "execute_result",
          "data": {
            "text/html": [
              "<div>\n",
              "<style scoped>\n",
              "    .dataframe tbody tr th:only-of-type {\n",
              "        vertical-align: middle;\n",
              "    }\n",
              "\n",
              "    .dataframe tbody tr th {\n",
              "        vertical-align: top;\n",
              "    }\n",
              "\n",
              "    .dataframe thead th {\n",
              "        text-align: right;\n",
              "    }\n",
              "</style>\n",
              "<table border=\"1\" class=\"dataframe\">\n",
              "  <thead>\n",
              "    <tr style=\"text-align: right;\">\n",
              "      <th></th>\n",
              "      <th>station_number</th>\n",
              "      <th>wban_number</th>\n",
              "      <th>year</th>\n",
              "      <th>month</th>\n",
              "      <th>day</th>\n",
              "      <th>mean_temp</th>\n",
              "      <th>num_mean_temp_samples</th>\n",
              "      <th>mean_dew_point</th>\n",
              "      <th>num_mean_dew_point_samples</th>\n",
              "      <th>mean_sealevel_pressure</th>\n",
              "      <th>...</th>\n",
              "      <th>num_mean_station_pressure_samples</th>\n",
              "      <th>mean_visibility</th>\n",
              "      <th>num_mean_visibility_samples</th>\n",
              "      <th>mean_wind_speed</th>\n",
              "      <th>num_mean_wind_speed_samples</th>\n",
              "      <th>max_sustained_wind_speed</th>\n",
              "      <th>max_gust_wind_speed</th>\n",
              "      <th>max_temperature</th>\n",
              "      <th>total_precipitation</th>\n",
              "      <th>snow_depth</th>\n",
              "    </tr>\n",
              "  </thead>\n",
              "  <tbody>\n",
              "    <tr>\n",
              "      <th>count</th>\n",
              "      <td>2024.000000</td>\n",
              "      <td>2024.000000</td>\n",
              "      <td>2024.000000</td>\n",
              "      <td>2024.000000</td>\n",
              "      <td>2024.000000</td>\n",
              "      <td>2024.000000</td>\n",
              "      <td>2024.00000</td>\n",
              "      <td>1932.000000</td>\n",
              "      <td>1932.000000</td>\n",
              "      <td>1553.000000</td>\n",
              "      <td>...</td>\n",
              "      <td>734.000000</td>\n",
              "      <td>1814.000000</td>\n",
              "      <td>1814.000000</td>\n",
              "      <td>2001.000000</td>\n",
              "      <td>2001.000000</td>\n",
              "      <td>1980.000000</td>\n",
              "      <td>263.000000</td>\n",
              "      <td>2020.000000</td>\n",
              "      <td>1841.000000</td>\n",
              "      <td>99.000000</td>\n",
              "    </tr>\n",
              "    <tr>\n",
              "      <th>mean</th>\n",
              "      <td>513678.177372</td>\n",
              "      <td>91209.933794</td>\n",
              "      <td>1987.038043</td>\n",
              "      <td>6.614625</td>\n",
              "      <td>15.937253</td>\n",
              "      <td>52.714130</td>\n",
              "      <td>13.14081</td>\n",
              "      <td>42.268841</td>\n",
              "      <td>13.099379</td>\n",
              "      <td>1014.729684</td>\n",
              "      <td>...</td>\n",
              "      <td>12.166213</td>\n",
              "      <td>12.165160</td>\n",
              "      <td>12.750827</td>\n",
              "      <td>6.952424</td>\n",
              "      <td>13.112444</td>\n",
              "      <td>12.282172</td>\n",
              "      <td>24.860076</td>\n",
              "      <td>44.111139</td>\n",
              "      <td>0.069565</td>\n",
              "      <td>8.992929</td>\n",
              "    </tr>\n",
              "    <tr>\n",
              "      <th>std</th>\n",
              "      <td>302377.222645</td>\n",
              "      <td>25187.413741</td>\n",
              "      <td>16.521710</td>\n",
              "      <td>3.435833</td>\n",
              "      <td>8.683227</td>\n",
              "      <td>24.065121</td>\n",
              "      <td>7.86631</td>\n",
              "      <td>22.589160</td>\n",
              "      <td>7.903841</td>\n",
              "      <td>9.342748</td>\n",
              "      <td>...</td>\n",
              "      <td>7.828632</td>\n",
              "      <td>9.433664</td>\n",
              "      <td>7.794074</td>\n",
              "      <td>5.023333</td>\n",
              "      <td>7.848876</td>\n",
              "      <td>6.729327</td>\n",
              "      <td>8.916061</td>\n",
              "      <td>24.025859</td>\n",
              "      <td>0.392102</td>\n",
              "      <td>9.077504</td>\n",
              "    </tr>\n",
              "    <tr>\n",
              "      <th>min</th>\n",
              "      <td>10015.000000</td>\n",
              "      <td>8.000000</td>\n",
              "      <td>1935.000000</td>\n",
              "      <td>1.000000</td>\n",
              "      <td>1.000000</td>\n",
              "      <td>-99.099998</td>\n",
              "      <td>4.00000</td>\n",
              "      <td>-105.699997</td>\n",
              "      <td>4.000000</td>\n",
              "      <td>964.000000</td>\n",
              "      <td>...</td>\n",
              "      <td>4.000000</td>\n",
              "      <td>0.000000</td>\n",
              "      <td>4.000000</td>\n",
              "      <td>0.000000</td>\n",
              "      <td>4.000000</td>\n",
              "      <td>1.000000</td>\n",
              "      <td>4.100000</td>\n",
              "      <td>-104.099998</td>\n",
              "      <td>0.000000</td>\n",
              "      <td>0.400000</td>\n",
              "    </tr>\n",
              "    <tr>\n",
              "      <th>25%</th>\n",
              "      <td>257717.500000</td>\n",
              "      <td>99999.000000</td>\n",
              "      <td>1977.000000</td>\n",
              "      <td>4.000000</td>\n",
              "      <td>8.000000</td>\n",
              "      <td>38.074999</td>\n",
              "      <td>7.00000</td>\n",
              "      <td>29.600000</td>\n",
              "      <td>7.000000</td>\n",
              "      <td>1009.400024</td>\n",
              "      <td>...</td>\n",
              "      <td>6.000000</td>\n",
              "      <td>6.300000</td>\n",
              "      <td>7.000000</td>\n",
              "      <td>3.400000</td>\n",
              "      <td>7.000000</td>\n",
              "      <td>7.800000</td>\n",
              "      <td>19.000000</td>\n",
              "      <td>31.600000</td>\n",
              "      <td>0.000000</td>\n",
              "      <td>2.950000</td>\n",
              "    </tr>\n",
              "    <tr>\n",
              "      <th>50%</th>\n",
              "      <td>542105.000000</td>\n",
              "      <td>99999.000000</td>\n",
              "      <td>1990.000000</td>\n",
              "      <td>7.000000</td>\n",
              "      <td>16.000000</td>\n",
              "      <td>55.900002</td>\n",
              "      <td>8.00000</td>\n",
              "      <td>45.049999</td>\n",
              "      <td>8.000000</td>\n",
              "      <td>1014.400024</td>\n",
              "      <td>...</td>\n",
              "      <td>8.000000</td>\n",
              "      <td>9.500000</td>\n",
              "      <td>8.000000</td>\n",
              "      <td>5.800000</td>\n",
              "      <td>8.000000</td>\n",
              "      <td>11.100000</td>\n",
              "      <td>22.900000</td>\n",
              "      <td>46.900002</td>\n",
              "      <td>0.000000</td>\n",
              "      <td>6.300000</td>\n",
              "    </tr>\n",
              "    <tr>\n",
              "      <th>75%</th>\n",
              "      <td>725552.750000</td>\n",
              "      <td>99999.000000</td>\n",
              "      <td>2001.000000</td>\n",
              "      <td>10.000000</td>\n",
              "      <td>23.000000</td>\n",
              "      <td>71.199997</td>\n",
              "      <td>23.00000</td>\n",
              "      <td>57.700001</td>\n",
              "      <td>23.000000</td>\n",
              "      <td>1020.099976</td>\n",
              "      <td>...</td>\n",
              "      <td>23.000000</td>\n",
              "      <td>14.900000</td>\n",
              "      <td>23.000000</td>\n",
              "      <td>9.100000</td>\n",
              "      <td>23.000000</td>\n",
              "      <td>15.900000</td>\n",
              "      <td>28.900000</td>\n",
              "      <td>60.799999</td>\n",
              "      <td>0.000000</td>\n",
              "      <td>12.000000</td>\n",
              "    </tr>\n",
              "    <tr>\n",
              "      <th>max</th>\n",
              "      <td>999999.000000</td>\n",
              "      <td>99999.000000</td>\n",
              "      <td>2010.000000</td>\n",
              "      <td>12.000000</td>\n",
              "      <td>31.000000</td>\n",
              "      <td>101.800003</td>\n",
              "      <td>24.00000</td>\n",
              "      <td>79.500000</td>\n",
              "      <td>24.000000</td>\n",
              "      <td>1054.400024</td>\n",
              "      <td>...</td>\n",
              "      <td>24.000000</td>\n",
              "      <td>99.400002</td>\n",
              "      <td>24.000000</td>\n",
              "      <td>37.400002</td>\n",
              "      <td>24.000000</td>\n",
              "      <td>54.000000</td>\n",
              "      <td>64.900002</td>\n",
              "      <td>89.599998</td>\n",
              "      <td>12.200000</td>\n",
              "      <td>59.099998</td>\n",
              "    </tr>\n",
              "  </tbody>\n",
              "</table>\n",
              "<p>8 rows × 22 columns</p>\n",
              "</div>"
            ],
            "text/plain": [
              "       station_number   wban_number         year        month          day  \\\n",
              "count     2024.000000   2024.000000  2024.000000  2024.000000  2024.000000   \n",
              "mean    513678.177372  91209.933794  1987.038043     6.614625    15.937253   \n",
              "std     302377.222645  25187.413741    16.521710     3.435833     8.683227   \n",
              "min      10015.000000      8.000000  1935.000000     1.000000     1.000000   \n",
              "25%     257717.500000  99999.000000  1977.000000     4.000000     8.000000   \n",
              "50%     542105.000000  99999.000000  1990.000000     7.000000    16.000000   \n",
              "75%     725552.750000  99999.000000  2001.000000    10.000000    23.000000   \n",
              "max     999999.000000  99999.000000  2010.000000    12.000000    31.000000   \n",
              "\n",
              "         mean_temp  num_mean_temp_samples  mean_dew_point  \\\n",
              "count  2024.000000             2024.00000     1932.000000   \n",
              "mean     52.714130               13.14081       42.268841   \n",
              "std      24.065121                7.86631       22.589160   \n",
              "min     -99.099998                4.00000     -105.699997   \n",
              "25%      38.074999                7.00000       29.600000   \n",
              "50%      55.900002                8.00000       45.049999   \n",
              "75%      71.199997               23.00000       57.700001   \n",
              "max     101.800003               24.00000       79.500000   \n",
              "\n",
              "       num_mean_dew_point_samples  mean_sealevel_pressure     ...      \\\n",
              "count                 1932.000000             1553.000000     ...       \n",
              "mean                    13.099379             1014.729684     ...       \n",
              "std                      7.903841                9.342748     ...       \n",
              "min                      4.000000              964.000000     ...       \n",
              "25%                      7.000000             1009.400024     ...       \n",
              "50%                      8.000000             1014.400024     ...       \n",
              "75%                     23.000000             1020.099976     ...       \n",
              "max                     24.000000             1054.400024     ...       \n",
              "\n",
              "       num_mean_station_pressure_samples  mean_visibility  \\\n",
              "count                         734.000000      1814.000000   \n",
              "mean                           12.166213        12.165160   \n",
              "std                             7.828632         9.433664   \n",
              "min                             4.000000         0.000000   \n",
              "25%                             6.000000         6.300000   \n",
              "50%                             8.000000         9.500000   \n",
              "75%                            23.000000        14.900000   \n",
              "max                            24.000000        99.400002   \n",
              "\n",
              "       num_mean_visibility_samples  mean_wind_speed  \\\n",
              "count                  1814.000000      2001.000000   \n",
              "mean                     12.750827         6.952424   \n",
              "std                       7.794074         5.023333   \n",
              "min                       4.000000         0.000000   \n",
              "25%                       7.000000         3.400000   \n",
              "50%                       8.000000         5.800000   \n",
              "75%                      23.000000         9.100000   \n",
              "max                      24.000000        37.400002   \n",
              "\n",
              "       num_mean_wind_speed_samples  max_sustained_wind_speed  \\\n",
              "count                  2001.000000               1980.000000   \n",
              "mean                     13.112444                 12.282172   \n",
              "std                       7.848876                  6.729327   \n",
              "min                       4.000000                  1.000000   \n",
              "25%                       7.000000                  7.800000   \n",
              "50%                       8.000000                 11.100000   \n",
              "75%                      23.000000                 15.900000   \n",
              "max                      24.000000                 54.000000   \n",
              "\n",
              "       max_gust_wind_speed  max_temperature  total_precipitation  snow_depth  \n",
              "count           263.000000      2020.000000          1841.000000   99.000000  \n",
              "mean             24.860076        44.111139             0.069565    8.992929  \n",
              "std               8.916061        24.025859             0.392102    9.077504  \n",
              "min               4.100000      -104.099998             0.000000    0.400000  \n",
              "25%              19.000000        31.600000             0.000000    2.950000  \n",
              "50%              22.900000        46.900002             0.000000    6.300000  \n",
              "75%              28.900000        60.799999             0.000000   12.000000  \n",
              "max              64.900002        89.599998            12.200000   59.099998  \n",
              "\n",
              "[8 rows x 22 columns]"
            ]
          },
          "metadata": {
            "tags": []
          },
          "execution_count": 26
        }
      ]
    },
    {
      "metadata": {
        "id": "OyFnqNU8Pshm",
        "colab_type": "text"
      },
      "cell_type": "markdown",
      "source": [
        "### # 10 highest total_precipitation samples\n"
      ]
    },
    {
      "metadata": {
        "id": "IPxcqyLeIlox",
        "colab_type": "code",
        "colab": {
          "base_uri": "https://localhost:8080/",
          "height": 359
        },
        "outputId": "2f41318a-d23b-4f99-cedb-7dc472a8f9e2"
      },
      "cell_type": "code",
      "source": [
        "df_gc.sort_values('total_precipitation', ascending=False).head(10)[['station_number', 'year', 'month', 'day', 'total_precipitation']]"
      ],
      "execution_count": 27,
      "outputs": [
        {
          "output_type": "execute_result",
          "data": {
            "text/html": [
              "<div>\n",
              "<style scoped>\n",
              "    .dataframe tbody tr th:only-of-type {\n",
              "        vertical-align: middle;\n",
              "    }\n",
              "\n",
              "    .dataframe tbody tr th {\n",
              "        vertical-align: top;\n",
              "    }\n",
              "\n",
              "    .dataframe thead th {\n",
              "        text-align: right;\n",
              "    }\n",
              "</style>\n",
              "<table border=\"1\" class=\"dataframe\">\n",
              "  <thead>\n",
              "    <tr style=\"text-align: right;\">\n",
              "      <th></th>\n",
              "      <th>station_number</th>\n",
              "      <th>year</th>\n",
              "      <th>month</th>\n",
              "      <th>day</th>\n",
              "      <th>total_precipitation</th>\n",
              "    </tr>\n",
              "  </thead>\n",
              "  <tbody>\n",
              "    <tr>\n",
              "      <th>1492</th>\n",
              "      <td>636940</td>\n",
              "      <td>1973</td>\n",
              "      <td>9</td>\n",
              "      <td>26</td>\n",
              "      <td>12.20</td>\n",
              "    </tr>\n",
              "    <tr>\n",
              "      <th>1659</th>\n",
              "      <td>913340</td>\n",
              "      <td>1989</td>\n",
              "      <td>4</td>\n",
              "      <td>17</td>\n",
              "      <td>6.89</td>\n",
              "    </tr>\n",
              "    <tr>\n",
              "      <th>1934</th>\n",
              "      <td>319930</td>\n",
              "      <td>1969</td>\n",
              "      <td>4</td>\n",
              "      <td>20</td>\n",
              "      <td>3.11</td>\n",
              "    </tr>\n",
              "    <tr>\n",
              "      <th>61</th>\n",
              "      <td>263180</td>\n",
              "      <td>1959</td>\n",
              "      <td>1</td>\n",
              "      <td>31</td>\n",
              "      <td>2.95</td>\n",
              "    </tr>\n",
              "    <tr>\n",
              "      <th>167</th>\n",
              "      <td>616300</td>\n",
              "      <td>1989</td>\n",
              "      <td>9</td>\n",
              "      <td>1</td>\n",
              "      <td>2.56</td>\n",
              "    </tr>\n",
              "    <tr>\n",
              "      <th>1314</th>\n",
              "      <td>723346</td>\n",
              "      <td>1991</td>\n",
              "      <td>12</td>\n",
              "      <td>3</td>\n",
              "      <td>2.17</td>\n",
              "    </tr>\n",
              "    <tr>\n",
              "      <th>429</th>\n",
              "      <td>726438</td>\n",
              "      <td>2002</td>\n",
              "      <td>7</td>\n",
              "      <td>7</td>\n",
              "      <td>2.04</td>\n",
              "    </tr>\n",
              "    <tr>\n",
              "      <th>1162</th>\n",
              "      <td>592980</td>\n",
              "      <td>1960</td>\n",
              "      <td>5</td>\n",
              "      <td>27</td>\n",
              "      <td>1.73</td>\n",
              "    </tr>\n",
              "    <tr>\n",
              "      <th>465</th>\n",
              "      <td>786500</td>\n",
              "      <td>1962</td>\n",
              "      <td>8</td>\n",
              "      <td>7</td>\n",
              "      <td>1.73</td>\n",
              "    </tr>\n",
              "    <tr>\n",
              "      <th>1147</th>\n",
              "      <td>421110</td>\n",
              "      <td>1962</td>\n",
              "      <td>8</td>\n",
              "      <td>24</td>\n",
              "      <td>1.69</td>\n",
              "    </tr>\n",
              "  </tbody>\n",
              "</table>\n",
              "</div>"
            ],
            "text/plain": [
              "      station_number  year  month  day  total_precipitation\n",
              "1492          636940  1973      9   26                12.20\n",
              "1659          913340  1989      4   17                 6.89\n",
              "1934          319930  1969      4   20                 3.11\n",
              "61            263180  1959      1   31                 2.95\n",
              "167           616300  1989      9    1                 2.56\n",
              "1314          723346  1991     12    3                 2.17\n",
              "429           726438  2002      7    7                 2.04\n",
              "1162          592980  1960      5   27                 1.73\n",
              "465           786500  1962      8    7                 1.73\n",
              "1147          421110  1962      8   24                 1.69"
            ]
          },
          "metadata": {
            "tags": []
          },
          "execution_count": 27
        }
      ]
    },
    {
      "metadata": {
        "id": "9nEhd1zmeLfh",
        "colab_type": "text"
      },
      "cell_type": "markdown",
      "source": [
        "# Sample code for USA SSN data\n",
        "### This public dataset was created by the Social Security Administration and contains all names from Social Security card applications for births that occurred in the United States after 1879. "
      ]
    },
    {
      "metadata": {
        "id": "9W03tmKeeQor",
        "colab_type": "code",
        "colab": {}
      },
      "cell_type": "code",
      "source": [
        "import pandas as pd\n",
        "\n",
        "sample_count = 2000\n",
        "df = pd.io.gbq.read_gbq('''\n",
        "  SELECT name, SUM(number) as count\n",
        "  FROM `bigquery-public-data.usa_names.usa_1910_2013`\n",
        "  WHERE state = 'TX'\n",
        "  GROUP BY name\n",
        "  ORDER BY count DESC\n",
        "  LIMIT 100\n",
        "''', project_id=project_id, verbose=False, dialect='standard')\n",
        "\n",
        "df.head()"
      ],
      "execution_count": 0,
      "outputs": []
    },
    {
      "metadata": {
        "id": "d0I_YgrNeZoy",
        "colab_type": "text"
      },
      "cell_type": "markdown",
      "source": [
        "# Assignment\n",
        "### Use the Google Political Advertisement analytics dataset to answer the following questions\n",
        "### This data set contains information on how much is spent by verified advertisers on political advertising across Google Ad Services. In addition, insights on demographic targeting used in political ad campaigns by these advertisers are also provided, as are links to the actual political ad in the Google Transparency report."
      ]
    },
    {
      "metadata": {
        "id": "cYHgNtA-g8pw",
        "colab_type": "text"
      },
      "cell_type": "markdown",
      "source": [
        "### # Question 1. From the 'advertiser_stats table, list the top 20 advertisers and sort them by their total spending in USD \n"
      ]
    },
    {
      "metadata": {
        "id": "16j8px5mfFad",
        "colab_type": "code",
        "colab": {}
      },
      "cell_type": "code",
      "source": [
        "# your code here"
      ],
      "execution_count": 0,
      "outputs": []
    },
    {
      "metadata": {
        "id": "O0LPpKxphAut",
        "colab_type": "text"
      },
      "cell_type": "markdown",
      "source": [
        "#### Question 2. From the 'geo spend' table, list the top 10 states by their total spending in USD"
      ]
    },
    {
      "metadata": {
        "id": "8M2ZeEu9foKh",
        "colab_type": "code",
        "colab": {}
      },
      "cell_type": "code",
      "source": [
        "# your code here"
      ],
      "execution_count": 0,
      "outputs": []
    },
    {
      "metadata": {
        "id": "V_PPzA0UhESY",
        "colab_type": "text"
      },
      "cell_type": "markdown",
      "source": [
        "#### Question 3. From the 'creative_stats' table, which advertiser had their ads running for the most number of days during the years 2016 and 2017"
      ]
    },
    {
      "metadata": {
        "id": "SWUL8HITgQCV",
        "colab_type": "code",
        "colab": {}
      },
      "cell_type": "code",
      "source": [
        ""
      ],
      "execution_count": 0,
      "outputs": []
    },
    {
      "metadata": {
        "id": "aobTBCxJhKBp",
        "colab_type": "text"
      },
      "cell_type": "markdown",
      "source": [
        "#### Question 4. From the 'campaign_targeting' table, list the top 5 advertisers who target younger population (18-24, 25-34, 35-44)"
      ]
    },
    {
      "metadata": {
        "id": "dE6Hk09ng4V6",
        "colab_type": "code",
        "colab": {}
      },
      "cell_type": "code",
      "source": [
        "# your code here"
      ],
      "execution_count": 0,
      "outputs": []
    },
    {
      "metadata": {
        "id": "YD1VcMWFiJVi",
        "colab_type": "text"
      },
      "cell_type": "markdown",
      "source": [
        "#### Question 5. from the advertiser_stats, list the heaviest spending advertiser by calculating total_spending divided by total_creatives. For this you need to divide the total_spend_usd / total_creatives to get a ratio of their spending per ad. Sort the list and show only the top 10. "
      ]
    },
    {
      "metadata": {
        "id": "AKWw7dv7ip2O",
        "colab_type": "code",
        "colab": {}
      },
      "cell_type": "code",
      "source": [
        "# your code here"
      ],
      "execution_count": 0,
      "outputs": []
    }
  ]
}